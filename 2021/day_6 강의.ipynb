{
 "cells": [
  {
   "cell_type": "code",
   "execution_count": 16,
   "id": "55640a0d",
   "metadata": {},
   "outputs": [],
   "source": [
    "# 학생, 국어, 영어, 수학 점수를 입력 받아 student_dict{} 에 저장한 후 출력\n",
    "students = []\n",
    "score_name = ['kor','eng','math']\n",
    "\n",
    "def create_student():\n",
    "    student = {}\n",
    "    name = input(\"학생 이름 입력 >\")\n",
    "    student['name'] = name    \n",
    "    if name == 'q':\n",
    "        return student\n",
    "    score = list(map(int, input(\"국어 , 영어, 수학 점수 입력 > \").split()))\n",
    "\n",
    "    for idx, value in enumerate(score):\n",
    "        student[score_name[idx]] = score[idx]\n",
    "    return student"
   ]
  },
  {
   "cell_type": "code",
   "execution_count": 17,
   "id": "a647c95c",
   "metadata": {},
   "outputs": [
    {
     "name": "stdout",
     "output_type": "stream",
     "text": [
      "학생 이름 입력 >a\n",
      "국어 , 영어, 수학 점수 입력 > 44 55 66\n",
      "학생 이름 입력 >b \n",
      "국어 , 영어, 수학 점수 입력 > 5 6 7\n",
      "학생 이름 입력 >q\n"
     ]
    }
   ],
   "source": [
    "while True:\n",
    "    student = create_student()\n",
    "    if  student['name'] == 'q':\n",
    "        break\n",
    "    students.append(student)"
   ]
  },
  {
   "cell_type": "code",
   "execution_count": 22,
   "id": "18fe72da",
   "metadata": {},
   "outputs": [
    {
     "name": "stdout",
     "output_type": "stream",
     "text": [
      "name:a\tkor:44\teng:55\tmath:66\t\n",
      "\n",
      "name:b \tkor:5\teng:6\tmath:7\t\n",
      "\n"
     ]
    }
   ],
   "source": [
    "for item in students:\n",
    "    for key in item:\n",
    "        print(\"{}:{}\\t\".format(key,item[key] ), end='')\n",
    "    print(\"\\n\")\n",
    "    "
   ]
  }
 ],
 "metadata": {
  "kernelspec": {
   "display_name": "Python 3 (ipykernel)",
   "language": "python",
   "name": "python3"
  },
  "language_info": {
   "codemirror_mode": {
    "name": "ipython",
    "version": 3
   },
   "file_extension": ".py",
   "mimetype": "text/x-python",
   "name": "python",
   "nbconvert_exporter": "python",
   "pygments_lexer": "ipython3",
   "version": "3.9.7"
  }
 },
 "nbformat": 4,
 "nbformat_minor": 5
}
