{
 "cells": [
  {
   "cell_type": "code",
   "execution_count": null,
   "id": "ba4082eb",
   "metadata": {},
   "outputs": [],
   "source": [
    "# class 정의 class 클래스명:  ~~~\n",
    "class Student:\n",
    "    def __init__(self,name, kor, eng):\n",
    "        self.name = name\n",
    "        self.kor = kor\n",
    "        self.eng = eng\n",
    "    \n",
    "    def get_sum(self):\n",
    "        return self.kor + self.eng\n",
    "    \n",
    "    def get_avg(self):\n",
    "        return self.get_sum() / 2"
   ]
  },
  {
   "cell_type": "code",
   "execution_count": null,
   "id": "9674dfb3",
   "metadata": {},
   "outputs": [],
   "source": [
    "student = Student('홍길동', 90,100)\n",
    "print(student.name, student.kor, student.eng,\n",
    "      student.get_sum(), student.get_avg())"
   ]
  },
  {
   "cell_type": "code",
   "execution_count": null,
   "id": "7fdfdb14",
   "metadata": {},
   "outputs": [],
   "source": [
    "students = [\n",
    "    Student('홍길동', 90,100),\n",
    "    Student('김철수', 90,100),\n",
    "    Student('홍길동1', 90,100),\n",
    "    Student('김철수1', 90,100)    \n",
    "]"
   ]
  },
  {
   "cell_type": "code",
   "execution_count": null,
   "id": "bcbc6765",
   "metadata": {},
   "outputs": [],
   "source": [
    "for stu in students:\n",
    "    print(stu.name)"
   ]
  },
  {
   "cell_type": "code",
   "execution_count": null,
   "id": "a5de9f93",
   "metadata": {},
   "outputs": [],
   "source": [
    "class Student:\n",
    "    students = []\n",
    "    def __init__(self,name, kor, eng):\n",
    "        self.name = name\n",
    "        self.kor = kor\n",
    "        self.eng = eng        \n",
    "        Student.students.append(self)\n",
    "    \n",
    "    def get_sum(self):\n",
    "        return self.kor + self.eng\n",
    "    \n",
    "    def get_avg(self):\n",
    "        return self.get_sum() / 2"
   ]
  },
  {
   "cell_type": "code",
   "execution_count": null,
   "id": "1224f647",
   "metadata": {},
   "outputs": [],
   "source": [
    "Student('홍길동', 90,100)\n",
    "Student('김철수', 90,100)\n",
    "Student('홍길동1', 90,100)\n",
    "Student('김철수1', 90,100) \n",
    "for stu in Student.students:\n",
    "    print(stu.name)"
   ]
  },
  {
   "cell_type": "code",
   "execution_count": 18,
   "id": "216f4250",
   "metadata": {},
   "outputs": [],
   "source": [
    "# private 변수\n",
    "class Circle:\n",
    "    def __init__(self, radius):\n",
    "        self.__radius = radius   # private 변수\n",
    "    \n",
    "    def get_area(self):\n",
    "        return self.__radius * self._radius\n",
    "    # getter\n",
    "    def get_radius(self):  \n",
    "        return self.__radius\n",
    "    # setter \n",
    "    def set_radius(self, value):\n",
    "        self.__radius = value"
   ]
  },
  {
   "cell_type": "code",
   "execution_count": 24,
   "id": "92e87f79",
   "metadata": {},
   "outputs": [],
   "source": [
    "# private 변수\n",
    "class Circle:\n",
    "    def __init__(self, radius):\n",
    "        self.__radius = radius   # private 변수\n",
    "    \n",
    "    def get_area(self):\n",
    "        return self.__radius * self._radius\n",
    "    \n",
    "    @property\n",
    "    def radius(self):\n",
    "#     def get_radius(self):  \n",
    "        return self.__radius\n",
    "    # setter \n",
    "    @radius.setter\n",
    "#     def set_radius(self, value):\n",
    "    def radius(self, value):\n",
    "        self.__radius = value\n"
   ]
  },
  {
   "cell_type": "code",
   "execution_count": 27,
   "id": "95a67aec",
   "metadata": {},
   "outputs": [
    {
     "name": "stdout",
     "output_type": "stream",
     "text": [
      "circle.radius :  10\n",
      "circle.radius :  100\n"
     ]
    }
   ],
   "source": [
    "circle = Circle(10)\n",
    "print(\"circle.radius : \", circle.radius)\n",
    "circle.radius = 100\n",
    "print(\"circle.radius : \", circle.radius)"
   ]
  },
  {
   "cell_type": "code",
   "execution_count": 21,
   "id": "da3c4f26",
   "metadata": {},
   "outputs": [
    {
     "name": "stdout",
     "output_type": "stream",
     "text": [
      "circle.radius :  20\n"
     ]
    }
   ],
   "source": [
    "circle.set_radius(20)\n",
    "print(\"circle.radius : \", circle.get_radius())"
   ]
  },
  {
   "cell_type": "code",
   "execution_count": 28,
   "id": "34c1e090",
   "metadata": {},
   "outputs": [
    {
     "data": {
      "text/plain": [
       "100"
      ]
     },
     "execution_count": 28,
     "metadata": {},
     "output_type": "execute_result"
    }
   ],
   "source": [
    "circle.radius"
   ]
  },
  {
   "cell_type": "code",
   "execution_count": 45,
   "id": "26a26c89",
   "metadata": {},
   "outputs": [],
   "source": [
    "# 상속 : 부모의 속성을 상속\n",
    "class Parent:\n",
    "    def __init__(self):\n",
    "        self.value = '테스트'\n",
    "        print(\"Parent class init \")\n",
    "    def test(self):\n",
    "        print(\"Parent test함수 : \")\n",
    "        \n",
    "class Child(Parent):   # 상속 클래스 정의 : class 클래스명(상속받을 클래스명)\n",
    "    def __init__(self):\n",
    "        Parent.__init__(self)\n",
    "        print(\"Child class init \")\n",
    "    def child_test(self):\n",
    "        print(\"child test 함수 \")\n",
    "    def test(self):\n",
    "        print(\"child test() 재정의 \")\n",
    "        "
   ]
  },
  {
   "cell_type": "code",
   "execution_count": 51,
   "id": "846c7f30",
   "metadata": {},
   "outputs": [],
   "source": [
    "# 상속 : 부모의 속성을 상속\n",
    "class Parent1:\n",
    "    def __init__(self):\n",
    "        self.value1 = '테스트'\n",
    "        print(\"Parent1 class init \")\n",
    "    def test(self):\n",
    "        print(\"Parent1 test함수 : \")\n",
    "\n",
    "class Parent2:\n",
    "    def __init__(self):\n",
    "        self.value2 = '테스트1'\n",
    "        print(\"Parent2 class init \")\n",
    "    def test1(self):\n",
    "        print(\"Parent2 test함수 : \")\n",
    "        \n",
    "class Child(Parent1, Parent2):   # 상속 클래스 정의 : class 클래스명(상속받을 클래스명)\n",
    "    def __init__(self):\n",
    "        Parent1.__init__(self)\n",
    "        Parent2.__init__(self)        \n",
    "        print(\"Child class init \")\n",
    "    def child_test(self):\n",
    "        print(\"child test 함수 \")\n",
    "    def test(self):\n",
    "        print(\"child test() 재정의 \")"
   ]
  },
  {
   "cell_type": "code",
   "execution_count": 52,
   "id": "52aecace",
   "metadata": {},
   "outputs": [
    {
     "name": "stdout",
     "output_type": "stream",
     "text": [
      "Parent1 class init \n",
      "Parent2 class init \n",
      "Child class init \n"
     ]
    }
   ],
   "source": [
    "child = Child()"
   ]
  },
  {
   "cell_type": "code",
   "execution_count": 47,
   "id": "aabba825",
   "metadata": {},
   "outputs": [
    {
     "name": "stdout",
     "output_type": "stream",
     "text": [
      "Parent class init \n",
      "Child class init \n",
      "child test() 재정의 \n",
      "child test 함수 \n"
     ]
    }
   ],
   "source": [
    "# parent = Parent()\n",
    "# print(parent.value, parent.test())\n",
    "\n",
    "child = Child()\n",
    "child.value\n",
    "child.test()\n",
    "child.child_test()"
   ]
  },
  {
   "cell_type": "code",
   "execution_count": null,
   "id": "3900a7a2",
   "metadata": {},
   "outputs": [],
   "source": []
  }
 ],
 "metadata": {
  "kernelspec": {
   "display_name": "Python 3 (ipykernel)",
   "language": "python",
   "name": "python3"
  },
  "language_info": {
   "codemirror_mode": {
    "name": "ipython",
    "version": 3
   },
   "file_extension": ".py",
   "mimetype": "text/x-python",
   "name": "python",
   "nbconvert_exporter": "python",
   "pygments_lexer": "ipython3",
   "version": "3.9.7"
  }
 },
 "nbformat": 4,
 "nbformat_minor": 5
}
