{
 "cells": [
  {
   "cell_type": "code",
   "execution_count": 3,
   "id": "47fd8593",
   "metadata": {},
   "outputs": [
    {
     "name": "stdout",
     "output_type": "stream",
     "text": [
      "range(5)\n",
      "0 = 반복횟수\n",
      "1 = 반복횟수\n",
      "2 = 반복횟수\n",
      "3 = 반복횟수\n",
      "4 = 반복횟수\n",
      "range(1,5)\n",
      "1 = 반복횟수\n",
      "2 = 반복횟수\n",
      "3 = 반복횟수\n",
      "4 = 반복횟수\n",
      "range(1,10,2)\n",
      "1 = 반복횟수\n",
      "3 = 반복횟수\n",
      "5 = 반복횟수\n",
      "7 = 반복횟수\n",
      "9 = 반복횟수\n"
     ]
    }
   ],
   "source": [
    "# range([start_no], end_no, [step]) 함수를 사용한 for 반복문 실행\n",
    "# range(5)\n",
    "print(\"range(5)\")\n",
    "for i in range(5):\n",
    "    print(str(i) + ' = 반복횟수')\n",
    "\n",
    "# range(1,5)\n",
    "print(\"range(1,5)\")\n",
    "for i in range(1,5):\n",
    "    print(str(i) + ' = 반복횟수')\n",
    "    \n",
    "# range(1,10,2)\n",
    "print(\"range(1,10,2)\")\n",
    "for i in range(1,10, 2):\n",
    "    print(str(i) + ' = 반복횟수')"
   ]
  },
  {
   "cell_type": "code",
   "execution_count": 14,
   "id": "a8fc2bdf",
   "metadata": {},
   "outputs": [
    {
     "name": "stdout",
     "output_type": "stream",
     "text": [
      "273\n",
      "32\n",
      "103\n",
      "68\n",
      "90\n",
      "0번째 반복: 273\n",
      "1번째 반복: 32\n",
      "2번째 반복: 103\n",
      "3번째 반복: 68\n",
      "4번째 반복: 90\n",
      "4번째 반복: 90\n",
      "3번째 반복: 68\n",
      "2번째 반복: 103\n",
      "1번째 반복: 32\n",
      "0번째 반복: 273\n",
      "\n",
      "4번째 반복: 90\n",
      "3번째 반복: 68\n",
      "2번째 반복: 103\n",
      "1번째 반복: 32\n",
      "0번째 반복: 273\n",
      "\n",
      "0번째 반복: 273\n",
      "1번째 반복: 32\n",
      "2번째 반복: 103\n",
      "3번째 반복: 68\n",
      "4번째 반복: 90\n"
     ]
    }
   ],
   "source": [
    "# list 와 for 사용하기\n",
    "list_a = [273,32,103,68,90]\n",
    "for element in list_a:\n",
    "    print(element)\n",
    "\n",
    "# list의 길이를 range함수에 적용해서\n",
    "for i in range(len(list_a)):\n",
    "    print(\"{}번째 반복: {}\".format(i, list_a[i]))\n",
    "    \n",
    "# 리스트의 값을 역으로 출력\n",
    "for i in range(len(list_a)-1, -1, -1):\n",
    "    print(\"{}번째 반복: {}\".format(i, list_a[i]))\n",
    "print()\n",
    "# 리스트의 값을 역으로 출력\n",
    "for i in reversed(range(len(list_a))):\n",
    "    print(\"{}번째 반복: {}\".format(i, list_a[i]))\n",
    "print()    \n",
    "# list의 값을 인덱스와 같이 출력\n",
    "for idx, value in enumerate(list_a):\n",
    "    print(\"{}번째 반복: {}\".format(idx, value))"
   ]
  },
  {
   "cell_type": "code",
   "execution_count": 18,
   "id": "15c97795",
   "metadata": {},
   "outputs": [
    {
     "name": "stdout",
     "output_type": "stream",
     "text": [
      "273\n",
      "32\n",
      "103\n",
      "68\n",
      "90\n"
     ]
    }
   ],
   "source": [
    "# while 표현식:\n",
    "# while True:\n",
    "#     print(\".\", end=\"\")\n",
    "\n",
    "# while문을 for문처럼 사용하기\n",
    "i = 0\n",
    "while i < len(list_a):  # 반복문을 처리할 수 있는 조건이 True이면 실행\n",
    "    print(list_a[i])\n",
    "    i +=1"
   ]
  },
  {
   "cell_type": "code",
   "execution_count": 19,
   "id": "2b4caa68",
   "metadata": {},
   "outputs": [
    {
     "name": "stdout",
     "output_type": "stream",
     "text": [
      "[1, 1]\n"
     ]
    }
   ],
   "source": [
    "# 상태를 기반으로 반복문 실행\n",
    "list_b = [1, 2, 1, 2]\n",
    "value = 2\n",
    "while value in list_b:  # True 인지 False인지 판단해서 True이면 실행\n",
    "    list_b.remove(value)\n",
    "print(list_b)"
   ]
  },
  {
   "cell_type": "code",
   "execution_count": 25,
   "id": "d3553c46",
   "metadata": {},
   "outputs": [
    {
     "name": "stdout",
     "output_type": "stream",
     "text": [
      "이름 성적 입력 ('q'를 입력하면 종료)a 90\n",
      "이름 성적 입력 ('q'를 입력하면 종료)b 88\n",
      "이름 성적 입력 ('q'를 입력하면 종료)q\n",
      "검색할 이름 : c\n",
      "자료 없음\n"
     ]
    }
   ],
   "source": [
    "# 이름과 점수를 입력받아 딕셔너리에 저장\n",
    "# 이름에 'q'가 입력되면 입력 종료\n",
    "# 검색할 이름을 입력받아 해당 이름이 있으면 이름과 점수 출력\n",
    "#  검색할 이름이 없으면 '자료 없음'으로 출력\n",
    "dict_score = {}\n",
    "while True:\n",
    "    input_list = input(\"이름 성적 입력 (\\'q\\'를 입력하면 종료)\").split()\n",
    "    if input_list[0] == 'q':   # 입력 종료\n",
    "        break\n",
    "    # 입력 데이터 수가 2가 아니거나 두번째 입력 자료가 숫자가 아니면 다시 입력     \n",
    "    if len(input_list) != 2 or not input_list[1].isdigit(): \n",
    "        continue\n",
    "    \n",
    "    dict_score[input_list[0]] = int(input_list[1])\n",
    "    \n",
    "# 데이터 검색\n",
    "search_name = input(\"검색할 이름 : \")\n",
    "if search_name in dict_score:\n",
    "    print(\"{}의 성적 : {}\".format(search_name, dict_score[search_name]))\n",
    "else:\n",
    "    print(\"자료 없음\")\n"
   ]
  },
  {
   "cell_type": "code",
   "execution_count": 26,
   "id": "f78697c3",
   "metadata": {},
   "outputs": [
    {
     "name": "stdout",
     "output_type": "stream",
     "text": [
      "계산식 입력 ex:10 + 20, q가 입력되면 종료10 = \n",
      "계산식 입력 ex:10 + 20, q가 입력되면 종료10 + 20\n",
      "10 + 20 = 30\n",
      "계산식 입력 ex:10 + 20, q가 입력되면 종료10 * 20\n",
      "10 * 20 = 200\n",
      "계산식 입력 ex:10 + 20, q가 입력되면 종료10 / 20\n",
      "10 / 20 = 0.5\n",
      "계산식 입력 ex:10 + 20, q가 입력되면 종료10 % 20\n",
      "10 % 20 = 10\n",
      "계산식 입력 ex:10 + 20, q가 입력되면 종료10 - 20\n",
      "10 - 20 = -10\n",
      "계산식 입력 ex:10 + 20, q가 입력되면 종료q\n"
     ]
    }
   ],
   "source": [
    "# 계산식을 입력받아 계산 결과를 출력하는 프로그램 작성\n",
    "# 10 + 20 -> 10 + 20 = 30\n",
    "# +, -, *, /,  % 모두 가능하도록 하세요\n",
    "# 처음 문자에 'q'가 입력되면 프로그램 종료\n",
    "while True:\n",
    "    cal_list = input(\"계산식 입력 ex:10 + 20, q가 입력되면 종료\").split()\n",
    "    if cal_list[0] =='q':\n",
    "        break\n",
    "    if len(cal_list) != 3 or not cal_list[1] in '+-*/%':\n",
    "        continue\n",
    "    if cal_list[1] == '+':\n",
    "        result = int(cal_list[0]) + int(cal_list[2])\n",
    "    elif cal_list[1] == '-':\n",
    "        result = int(cal_list[0]) - int(cal_list[2])\n",
    "    elif cal_list[1] == '*':\n",
    "        result = int(cal_list[0]) * int(cal_list[2])   \n",
    "    elif cal_list[1] == '/':\n",
    "        result = int(cal_list[0]) / int(cal_list[2])\n",
    "    elif cal_list[1] == '%':\n",
    "        result = int(cal_list[0]) % int(cal_list[2])         \n",
    "    \n",
    "    print(\"{} {} {} = {}\".format(cal_list[0],cal_list[1],cal_list[2],result))"
   ]
  },
  {
   "cell_type": "code",
   "execution_count": 27,
   "id": "235b1090",
   "metadata": {},
   "outputs": [
    {
     "name": "stdout",
     "output_type": "stream",
     "text": [
      "5초동안 35228886번 실행 \n"
     ]
    }
   ],
   "source": [
    "import time\n",
    "\n",
    "number = 0\n",
    "target_time = time.time() + 5\n",
    "while time.time() < target_time:\n",
    "    number += 1\n",
    "print(\"5초동안 {}번 반복 실행 \".format(number))"
   ]
  },
  {
   "cell_type": "code",
   "execution_count": 37,
   "id": "36dad71c",
   "metadata": {},
   "outputs": [
    {
     "name": "stdout",
     "output_type": "stream",
     "text": [
      "<list_reverseiterator object at 0x000001C68F5924F0>\n",
      "50\n",
      "40\n",
      "30\n",
      "20\n",
      "10\n",
      "rever second :  <list_reverseiterator object at 0x000001C68F5924F0>\n",
      "reverser first\n",
      "50\n",
      "40\n",
      "30\n",
      "20\n",
      "10\n",
      "\n",
      "50\n",
      "40\n",
      "30\n",
      "20\n",
      "10\n"
     ]
    }
   ],
   "source": [
    "# reversed() 함수\n",
    "list_a = [10,20,30,40,50]\n",
    "reverse_a = reversed(list_a)  # 주소를 복사\n",
    "\n",
    "print(reverse_a)\n",
    "for i in reverse_a:\n",
    "    print(\"{}\".format(i))\n",
    "print(\"rever second : \", reverse_a)\n",
    "for i in reverse_a:\n",
    "    print(\"{}\".format(i))    \n",
    "print(\"reverser first\")    \n",
    "for i in reversed(list_a) :\n",
    "    print(\"{}\".format(i))\n",
    "print()\n",
    "for i in reversed(list_a) :\n",
    "    print(\"{}\".format(i))"
   ]
  },
  {
   "cell_type": "code",
   "execution_count": 40,
   "id": "4169447b",
   "metadata": {},
   "outputs": [
    {
     "name": "stdout",
     "output_type": "stream",
     "text": [
      "[10, 20, 30, 40, 50]\n",
      "[50, 40, 30, 20, 10]\n"
     ]
    },
    {
     "data": {
      "text/plain": [
       "[10, 20, 30, 40, 50]"
      ]
     },
     "execution_count": 40,
     "metadata": {},
     "output_type": "execute_result"
    }
   ],
   "source": [
    "print(list_a)\n",
    "print(list_a[::-1])  # 뒤에서 부터 자료 가져 옴\n",
    "list_a"
   ]
  },
  {
   "cell_type": "markdown",
   "id": "7d76ea67",
   "metadata": {},
   "source": [
    "- list의 idx와 value를 동시에 반환 : enumerate(list)\n",
    "- dict의 key와 value를 동시에 반화 : dit.items()"
   ]
  },
  {
   "cell_type": "code",
   "execution_count": 42,
   "id": "b820262a",
   "metadata": {},
   "outputs": [
    {
     "name": "stdout",
     "output_type": "stream",
     "text": [
      "[0, 2, 4, 6, 8]\n"
     ]
    },
    {
     "data": {
      "text/plain": [
       "[1, 3, 5, 7, 9]"
      ]
     },
     "execution_count": 42,
     "metadata": {},
     "output_type": "execute_result"
    }
   ],
   "source": [
    "# 리스트 내포 : [  i for i in 반복 조건식 ]\n",
    "array = [ i for i in range(10) if i % 2 == 0 ]\n",
    "print(array)\n",
    "\n",
    "array = [ i for i in range(10) if i % 2 ] # 홀수만\n",
    "array"
   ]
  },
  {
   "cell_type": "code",
   "execution_count": 45,
   "id": "f6058f5e",
   "metadata": {},
   "outputs": [
    {
     "name": "stdout",
     "output_type": "stream",
     "text": [
      "2500 2550\n"
     ]
    }
   ],
   "source": [
    "# 1에서 100 까지의 홀수의 합과 짝수의 합을 구하세요\n",
    "odd_sum = sum([ i for i in range(100+1) if i %2])\n",
    "\n",
    "even_sum = sum([ i for i in range(100+1) if not i %2 ])\n",
    "print(odd_sum, even_sum)"
   ]
  }
 ],
 "metadata": {
  "kernelspec": {
   "display_name": "Python 3 (ipykernel)",
   "language": "python",
   "name": "python3"
  },
  "language_info": {
   "codemirror_mode": {
    "name": "ipython",
    "version": 3
   },
   "file_extension": ".py",
   "mimetype": "text/x-python",
   "name": "python",
   "nbconvert_exporter": "python",
   "pygments_lexer": "ipython3",
   "version": "3.9.7"
  }
 },
 "nbformat": 4,
 "nbformat_minor": 5
}
